{
 "cells": [
  {
   "cell_type": "markdown",
   "metadata": {},
   "source": [
    "# AI KI PATHSHALA"
   ]
  },
  {
   "cell_type": "markdown",
   "metadata": {
    "colab_type": "text",
    "id": "rgCTpQN11gxC"
   },
   "source": [
    "## 6.1.1 Number methods\n",
    "\n",
    "As we discussed in previous lectures, we are aware of different number datatypes like integer, float, complex numbers.\n",
    "\n",
    "Number data types are used to store numeric values like, int, float,complex numbers. \n",
    "\n",
    "There are certain mathematical  functions available to perform mathematical calculations."
   ]
  },
  {
   "cell_type": "markdown",
   "metadata": {
    "colab_type": "text",
    "id": "4uPra8SA1gxI"
   },
   "source": [
    "### abs()\n",
    "\n",
    "`abs(x)` will return the absolute value of a number x which we pass in argument. The number x can be integer, float, complex,.."
   ]
  },
  {
   "cell_type": "code",
   "execution_count": null,
   "metadata": {
    "colab": {},
    "colab_type": "code",
    "id": "LcaUiDWz1gxN",
    "outputId": "f94a0d13-d605-4d85-963d-0839e8b75c51"
   },
   "outputs": [
    {
     "name": "stdout",
     "output_type": "stream",
     "text": [
      "10\n"
     ]
    }
   ],
   "source": [
    "print(abs(10))"
   ]
  },
  {
   "cell_type": "code",
   "execution_count": null,
   "metadata": {
    "colab": {},
    "colab_type": "code",
    "id": "of0xMB-S1gxY",
    "outputId": "d4288ad9-e89c-4e12-cd70-237c0ca2163d"
   },
   "outputs": [
    {
     "name": "stdout",
     "output_type": "stream",
     "text": [
      "10\n"
     ]
    }
   ],
   "source": [
    "print(abs(-10))"
   ]
  },
  {
   "cell_type": "code",
   "execution_count": null,
   "metadata": {
    "colab": {},
    "colab_type": "code",
    "id": "VDQI7gQj1gxd",
    "outputId": "517e9556-c89c-4479-e5bc-aa0d49cee9ed"
   },
   "outputs": [
    {
     "data": {
      "text/plain": [
       "45.2"
      ]
     },
     "execution_count": 3,
     "metadata": {
      "tags": []
     },
     "output_type": "execute_result"
    }
   ],
   "source": [
    "abs(45.20)"
   ]
  },
  {
   "cell_type": "code",
   "execution_count": null,
   "metadata": {
    "colab": {},
    "colab_type": "code",
    "id": "CRcS9Zjh1gxi",
    "outputId": "989528ff-ac38-422c-828f-d04af21d696e"
   },
   "outputs": [
    {
     "data": {
      "text/plain": [
       "98.36"
      ]
     },
     "execution_count": 4,
     "metadata": {
      "tags": []
     },
     "output_type": "execute_result"
    }
   ],
   "source": [
    "abs(-98.36)"
   ]
  },
  {
   "cell_type": "code",
   "execution_count": null,
   "metadata": {
    "colab": {},
    "colab_type": "code",
    "id": "DZvf9v5A1gxn",
    "outputId": "3b086474-35f6-4fbd-deba-7888e0d41d7e"
   },
   "outputs": [
    {
     "data": {
      "text/plain": [
       "10.295630140987"
      ]
     },
     "execution_count": 5,
     "metadata": {
      "tags": []
     },
     "output_type": "execute_result"
    }
   ],
   "source": [
    "abs(5+9j)"
   ]
  },
  {
   "cell_type": "markdown",
   "metadata": {
    "colab_type": "text",
    "id": "I4vcDhbh1gxs"
   },
   "source": [
    "### ceil()\n",
    "\n",
    "ceil(x) will return the ceiling value of a number x which we pass in argument. The ceiling value of a number x will be the smallest integer not less than x\n",
    "\n",
    ">**Note** :- This function will not be accessible directly using ceil() method. Math module will be required to access this method."
   ]
  },
  {
   "cell_type": "code",
   "execution_count": null,
   "metadata": {
    "colab": {},
    "colab_type": "code",
    "id": "7c9Ykp8L1gxv",
    "outputId": "ac1cd338-2de2-404b-9798-e3afe07186e3"
   },
   "outputs": [
    {
     "data": {
      "text/plain": [
       "40"
      ]
     },
     "execution_count": 6,
     "metadata": {
      "tags": []
     },
     "output_type": "execute_result"
    }
   ],
   "source": [
    "import math\n",
    "math.ceil(40)"
   ]
  },
  {
   "cell_type": "code",
   "execution_count": null,
   "metadata": {
    "colab": {},
    "colab_type": "code",
    "id": "WusRBOfj1gyB",
    "outputId": "5791fb51-0b93-4b1a-f84e-396d01b87870"
   },
   "outputs": [
    {
     "data": {
      "text/plain": [
       "-40"
      ]
     },
     "execution_count": 7,
     "metadata": {
      "tags": []
     },
     "output_type": "execute_result"
    }
   ],
   "source": [
    "math.ceil(-40)"
   ]
  },
  {
   "cell_type": "code",
   "execution_count": null,
   "metadata": {
    "colab": {},
    "colab_type": "code",
    "id": "sf4AGyrW1gyF",
    "outputId": "100955e6-d800-4b0c-917b-5657d01aa520"
   },
   "outputs": [
    {
     "data": {
      "text/plain": [
       "99"
      ]
     },
     "execution_count": 8,
     "metadata": {
      "tags": []
     },
     "output_type": "execute_result"
    }
   ],
   "source": [
    "math.ceil(98.65)"
   ]
  },
  {
   "cell_type": "code",
   "execution_count": null,
   "metadata": {
    "colab": {},
    "colab_type": "code",
    "id": "EL1cEn_a1gyJ",
    "outputId": "7ef78e81-0f65-4dfd-cb29-d00475163fed"
   },
   "outputs": [
    {
     "data": {
      "text/plain": [
       "-98"
      ]
     },
     "execution_count": 9,
     "metadata": {
      "tags": []
     },
     "output_type": "execute_result"
    }
   ],
   "source": [
    "math.ceil(-98.65)"
   ]
  },
  {
   "cell_type": "code",
   "execution_count": null,
   "metadata": {
    "colab": {},
    "colab_type": "code",
    "id": "SUis3RWh1gyP",
    "outputId": "00f8e353-8f3a-4b15-8ddd-92e26f928fcd"
   },
   "outputs": [
    {
     "data": {
      "text/plain": [
       "120"
      ]
     },
     "execution_count": 10,
     "metadata": {
      "tags": []
     },
     "output_type": "execute_result"
    }
   ],
   "source": [
    "math.ceil(120.0)"
   ]
  },
  {
   "cell_type": "markdown",
   "metadata": {
    "colab_type": "text",
    "id": "LvR8lIVU1gyT"
   },
   "source": [
    "### exp()\n",
    "\n",
    "**exp(x)** will return the exponential value of a number x which we pass in argument.\n",
    "\n",
    ">**Note:- ** This function will not be accessible directly using exp() method. Math module will be required to access this method."
   ]
  },
  {
   "cell_type": "code",
   "execution_count": null,
   "metadata": {
    "colab": {
     "base_uri": "https://localhost:8080/",
     "height": 34
    },
    "colab_type": "code",
    "executionInfo": {
     "elapsed": 1830,
     "status": "ok",
     "timestamp": 1597653840655,
     "user": {
      "displayName": "khushali shah",
      "photoUrl": "https://lh3.googleusercontent.com/a-/AOh14Gin-WGUtjrJSNaMWLlI-Wr_VJF7QMxCHLiP64LO=s64",
      "userId": "00155816219623022725"
     },
     "user_tz": -330
    },
    "id": "tZSYPdc61gyV",
    "outputId": "438fc8c6-0879-4cbf-a862-31708d083017"
   },
   "outputs": [
    {
     "data": {
      "text/plain": [
       "54.598150033144236"
      ]
     },
     "execution_count": 1,
     "metadata": {
      "tags": []
     },
     "output_type": "execute_result"
    }
   ],
   "source": [
    "import math\n",
    "math.exp(4)"
   ]
  },
  {
   "cell_type": "code",
   "execution_count": null,
   "metadata": {
    "colab": {
     "base_uri": "https://localhost:8080/",
     "height": 34
    },
    "colab_type": "code",
    "executionInfo": {
     "elapsed": 1812,
     "status": "ok",
     "timestamp": 1597653840657,
     "user": {
      "displayName": "khushali shah",
      "photoUrl": "https://lh3.googleusercontent.com/a-/AOh14Gin-WGUtjrJSNaMWLlI-Wr_VJF7QMxCHLiP64LO=s64",
      "userId": "00155816219623022725"
     },
     "user_tz": -330
    },
    "id": "X52HndCk1gyZ",
    "outputId": "f8251ff2-573c-4e42-b46e-98b0bb2cd856"
   },
   "outputs": [
    {
     "data": {
      "text/plain": [
       "0.01831563888873418"
      ]
     },
     "execution_count": 2,
     "metadata": {
      "tags": []
     },
     "output_type": "execute_result"
    }
   ],
   "source": [
    "math.exp(-4)"
   ]
  },
  {
   "cell_type": "code",
   "execution_count": null,
   "metadata": {
    "colab": {
     "base_uri": "https://localhost:8080/",
     "height": 34
    },
    "colab_type": "code",
    "executionInfo": {
     "elapsed": 1799,
     "status": "ok",
     "timestamp": 1597653840661,
     "user": {
      "displayName": "khushali shah",
      "photoUrl": "https://lh3.googleusercontent.com/a-/AOh14Gin-WGUtjrJSNaMWLlI-Wr_VJF7QMxCHLiP64LO=s64",
      "userId": "00155816219623022725"
     },
     "user_tz": -330
    },
    "id": "BaaWrNF61gyd",
    "outputId": "a0ffa2f6-e278-4776-e562-19b6c051d86a"
   },
   "outputs": [
    {
     "data": {
      "text/plain": [
       "311763.4480807426"
      ]
     },
     "execution_count": 3,
     "metadata": {
      "tags": []
     },
     "output_type": "execute_result"
    }
   ],
   "source": [
    "math.exp(12.65)"
   ]
  },
  {
   "cell_type": "code",
   "execution_count": null,
   "metadata": {
    "colab": {
     "base_uri": "https://localhost:8080/",
     "height": 34
    },
    "colab_type": "code",
    "executionInfo": {
     "elapsed": 1783,
     "status": "ok",
     "timestamp": 1597653840663,
     "user": {
      "displayName": "khushali shah",
      "photoUrl": "https://lh3.googleusercontent.com/a-/AOh14Gin-WGUtjrJSNaMWLlI-Wr_VJF7QMxCHLiP64LO=s64",
      "userId": "00155816219623022725"
     },
     "user_tz": -330
    },
    "id": "VHKCZkGe1gyh",
    "outputId": "4f7ca1c8-b54d-497d-a0be-48911cddf659"
   },
   "outputs": [
    {
     "data": {
      "text/plain": [
       "1.4207131995691755e-43"
      ]
     },
     "execution_count": 4,
     "metadata": {
      "tags": []
     },
     "output_type": "execute_result"
    }
   ],
   "source": [
    "math.exp(-98.66)"
   ]
  },
  {
   "cell_type": "markdown",
   "metadata": {
    "colab_type": "text",
    "id": "LrFv6tYt1gyl"
   },
   "source": [
    "### fabs()\n",
    "\n",
    "`fabs(x)` method will give absolute value of x just like an `abs()` method, but `fabs()` method comes into maths module and it will work for integer and float numbers, it will not work with complex numbers.\n",
    "\n",
    ">**Note:-** This function will not be accessible directly using fabs() method. Math module will be required to access this method."
   ]
  },
  {
   "cell_type": "code",
   "execution_count": null,
   "metadata": {
    "colab": {},
    "colab_type": "code",
    "id": "6qbCppQn1gyn",
    "outputId": "cb9a3159-3818-42da-f404-1d1d96a59432"
   },
   "outputs": [
    {
     "data": {
      "text/plain": [
       "33.0"
      ]
     },
     "execution_count": 16,
     "metadata": {
      "tags": []
     },
     "output_type": "execute_result"
    }
   ],
   "source": [
    "import math\n",
    "math.fabs(33)"
   ]
  },
  {
   "cell_type": "code",
   "execution_count": null,
   "metadata": {
    "colab": {},
    "colab_type": "code",
    "id": "li1mkY151gyv",
    "outputId": "9dde1ecb-44b3-4e96-9a52-763f01211b62"
   },
   "outputs": [
    {
     "data": {
      "text/plain": [
       "55.55"
      ]
     },
     "execution_count": 17,
     "metadata": {
      "tags": []
     },
     "output_type": "execute_result"
    }
   ],
   "source": [
    "math.fabs(55.55)"
   ]
  },
  {
   "cell_type": "code",
   "execution_count": null,
   "metadata": {
    "colab": {},
    "colab_type": "code",
    "id": "-s6zU_X41gy1",
    "outputId": "80224779-2c19-4313-d861-26e15c0fd949"
   },
   "outputs": [
    {
     "data": {
      "text/plain": [
       "47.35"
      ]
     },
     "execution_count": 18,
     "metadata": {
      "tags": []
     },
     "output_type": "execute_result"
    }
   ],
   "source": [
    "math.fabs(-47.35)"
   ]
  },
  {
   "cell_type": "code",
   "execution_count": null,
   "metadata": {
    "colab": {},
    "colab_type": "code",
    "id": "pHcCrSYV1gy8",
    "outputId": "94e03599-1b21-424d-e77d-e5d834345832"
   },
   "outputs": [
    {
     "ename": "TypeError",
     "evalue": "can't convert complex to float",
     "output_type": "error",
     "traceback": [
      "\u001b[1;31m---------------------------------------------------------------------------\u001b[0m",
      "\u001b[1;31mTypeError\u001b[0m                                 Traceback (most recent call last)",
      "\u001b[1;32m<ipython-input-20-f190b72eee3e>\u001b[0m in \u001b[0;36m<module>\u001b[1;34m\u001b[0m\n\u001b[1;32m----> 1\u001b[1;33m \u001b[0mmath\u001b[0m\u001b[1;33m.\u001b[0m\u001b[0mfabs\u001b[0m\u001b[1;33m(\u001b[0m\u001b[1;36m9\u001b[0m\u001b[1;33m+\u001b[0m\u001b[1;36m6j\u001b[0m\u001b[1;33m)\u001b[0m \u001b[1;31m# this will not work with complex number\u001b[0m\u001b[1;33m\u001b[0m\u001b[1;33m\u001b[0m\u001b[0m\n\u001b[0m",
      "\u001b[1;31mTypeError\u001b[0m: can't convert complex to float"
     ]
    }
   ],
   "source": [
    "math.fabs(9+6j) # this will not work with complex number"
   ]
  },
  {
   "cell_type": "markdown",
   "metadata": {
    "colab_type": "text",
    "id": "TQWldUrr1gzD"
   },
   "source": [
    "### floor()\n",
    "\n",
    "`floor(x)` will return the floor value of a number x which we pass in argument. The floor value of a number x will be the largest integer not greater than x.\n",
    "\n",
    ">**Note:-** This function will not be accessible directly using `floor()` method. Math module will be required to access this method."
   ]
  },
  {
   "cell_type": "code",
   "execution_count": null,
   "metadata": {
    "colab": {},
    "colab_type": "code",
    "id": "uhCx3m0F1gzI",
    "outputId": "1ebab2b2-781e-4b4c-cae4-a610ca641516"
   },
   "outputs": [
    {
     "data": {
      "text/plain": [
       "37"
      ]
     },
     "execution_count": 21,
     "metadata": {
      "tags": []
     },
     "output_type": "execute_result"
    }
   ],
   "source": [
    "import math\n",
    "math.floor(37)"
   ]
  },
  {
   "cell_type": "code",
   "execution_count": null,
   "metadata": {
    "colab": {},
    "colab_type": "code",
    "id": "Op6kzpfL1gzP",
    "outputId": "d4580564-326d-475f-c47f-10c135f5e355"
   },
   "outputs": [
    {
     "data": {
      "text/plain": [
       "32"
      ]
     },
     "execution_count": 22,
     "metadata": {
      "tags": []
     },
     "output_type": "execute_result"
    }
   ],
   "source": [
    "math.floor(32.58)"
   ]
  },
  {
   "cell_type": "code",
   "execution_count": null,
   "metadata": {
    "colab": {},
    "colab_type": "code",
    "id": "0K0-4nTI1gzV",
    "outputId": "c231732a-7ba9-48b8-ac3b-5c190c56cc1c"
   },
   "outputs": [
    {
     "data": {
      "text/plain": [
       "-33"
      ]
     },
     "execution_count": 24,
     "metadata": {
      "tags": []
     },
     "output_type": "execute_result"
    }
   ],
   "source": [
    "math.floor(-32.58)"
   ]
  },
  {
   "cell_type": "code",
   "execution_count": null,
   "metadata": {
    "colab": {},
    "colab_type": "code",
    "id": "rKaG9xeb1gze",
    "outputId": "5709696a-d18f-4fab-85bd-068ba1aa918a"
   },
   "outputs": [
    {
     "data": {
      "text/plain": [
       "-65"
      ]
     },
     "execution_count": 25,
     "metadata": {
      "tags": []
     },
     "output_type": "execute_result"
    }
   ],
   "source": [
    "math.floor(-65)"
   ]
  },
  {
   "cell_type": "markdown",
   "metadata": {
    "colab_type": "text",
    "id": "qAZKVTxX1gzm"
   },
   "source": [
    "### log()\n",
    "\n",
    "`log(x)` will return the logarithmic value of a number x which we pass in argument and the number should be greater than zero. (>0)\n",
    "\n",
    ">**Note:-** This function will not be accessible directly using `log()` method. Math module will be required to access this method."
   ]
  },
  {
   "cell_type": "code",
   "execution_count": null,
   "metadata": {
    "colab": {},
    "colab_type": "code",
    "id": "b_vn9A6y1gzq",
    "outputId": "3a92b2b9-582e-4389-fd28-87ed524cbc4b"
   },
   "outputs": [
    {
     "data": {
      "text/plain": [
       "2.302585092994046"
      ]
     },
     "execution_count": 28,
     "metadata": {
      "tags": []
     },
     "output_type": "execute_result"
    }
   ],
   "source": [
    "import math\n",
    "math.log(10)"
   ]
  },
  {
   "cell_type": "code",
   "execution_count": null,
   "metadata": {
    "colab": {},
    "colab_type": "code",
    "id": "dYC4KreS1gzu",
    "outputId": "cad4d103-572f-41ca-8c48-691c57bcba5f"
   },
   "outputs": [
    {
     "data": {
      "text/plain": [
       "4.146462516484207"
      ]
     },
     "execution_count": 29,
     "metadata": {
      "tags": []
     },
     "output_type": "execute_result"
    }
   ],
   "source": [
    "math.log(63.21)"
   ]
  },
  {
   "cell_type": "code",
   "execution_count": null,
   "metadata": {
    "colab": {},
    "colab_type": "code",
    "id": "yPIIWcPW1gzy",
    "outputId": "c3d7dddc-36bf-4e62-92f8-49e7bbce9aad"
   },
   "outputs": [
    {
     "ename": "ValueError",
     "evalue": "math domain error",
     "output_type": "error",
     "traceback": [
      "\u001b[1;31m---------------------------------------------------------------------------\u001b[0m",
      "\u001b[1;31mValueError\u001b[0m                                Traceback (most recent call last)",
      "\u001b[1;32m<ipython-input-31-b437db2e6779>\u001b[0m in \u001b[0;36m<module>\u001b[1;34m\u001b[0m\n\u001b[1;32m----> 1\u001b[1;33m \u001b[0mmath\u001b[0m\u001b[1;33m.\u001b[0m\u001b[0mlog\u001b[0m\u001b[1;33m(\u001b[0m\u001b[1;36m0\u001b[0m\u001b[1;33m)\u001b[0m \u001b[1;31m# Will not work for x >=0\u001b[0m\u001b[1;33m\u001b[0m\u001b[1;33m\u001b[0m\u001b[0m\n\u001b[0m",
      "\u001b[1;31mValueError\u001b[0m: math domain error"
     ]
    }
   ],
   "source": [
    "math.log(0) # Will not work for x >=0"
   ]
  },
  {
   "cell_type": "markdown",
   "metadata": {
    "colab_type": "text",
    "id": "HD1QwgNe1gz3"
   },
   "source": [
    "### log10()\n",
    "\n",
    "`log10(x)` will return the `base-10` logarithmic value of a number x which we pass in argument and the number shoul be grater than zero. (>0)\n",
    "\n",
    ">**Note:-** This function will not be accessible directly using `log10()` method. Math module will be required to access this method."
   ]
  },
  {
   "cell_type": "code",
   "execution_count": null,
   "metadata": {
    "colab": {},
    "colab_type": "code",
    "id": "kTiZcCzp1gz5",
    "outputId": "ee1ead47-c3c9-4099-aed0-aa922c84fada"
   },
   "outputs": [
    {
     "data": {
      "text/plain": [
       "1.3979400086720377"
      ]
     },
     "execution_count": 33,
     "metadata": {
      "tags": []
     },
     "output_type": "execute_result"
    }
   ],
   "source": [
    "import math\n",
    "math.log10(25)"
   ]
  },
  {
   "cell_type": "code",
   "execution_count": null,
   "metadata": {
    "colab": {},
    "colab_type": "code",
    "id": "9R1T8Zbp1g0A",
    "outputId": "9bb7cf06-2c26-451e-a7cc-dc8ef1cc48b3"
   },
   "outputs": [
    {
     "data": {
      "text/plain": [
       "1.0"
      ]
     },
     "execution_count": 34,
     "metadata": {
      "tags": []
     },
     "output_type": "execute_result"
    }
   ],
   "source": [
    "math.log10(10)"
   ]
  },
  {
   "cell_type": "code",
   "execution_count": null,
   "metadata": {
    "colab": {},
    "colab_type": "code",
    "id": "4bAUvQmI1g0I",
    "outputId": "f946a5dc-290f-4f5e-b1ac-81d926387591"
   },
   "outputs": [
    {
     "data": {
      "text/plain": [
       "1.8007857903277626"
      ]
     },
     "execution_count": 35,
     "metadata": {
      "tags": []
     },
     "output_type": "execute_result"
    }
   ],
   "source": [
    "math.log10(63.21)"
   ]
  },
  {
   "cell_type": "markdown",
   "metadata": {
    "colab_type": "text",
    "id": "otamOIA-1g0O"
   },
   "source": [
    "### max()\n",
    "\n",
    "`max(a,b,c,...)` method will return the largest number from the given argument. "
   ]
  },
  {
   "cell_type": "code",
   "execution_count": null,
   "metadata": {
    "colab": {},
    "colab_type": "code",
    "id": "dWUyeIzS1g0Q",
    "outputId": "7540d4f8-1f21-4421-983d-b4077107b4c0"
   },
   "outputs": [
    {
     "data": {
      "text/plain": [
       "600"
      ]
     },
     "execution_count": 36,
     "metadata": {
      "tags": []
     },
     "output_type": "execute_result"
    }
   ],
   "source": [
    "max(0,25,600)"
   ]
  },
  {
   "cell_type": "code",
   "execution_count": null,
   "metadata": {
    "colab": {},
    "colab_type": "code",
    "id": "R66bKsn41g0W",
    "outputId": "0bda4449-0c73-4c16-fca7-d99cc893ddac"
   },
   "outputs": [
    {
     "data": {
      "text/plain": [
       "48.56"
      ]
     },
     "execution_count": 37,
     "metadata": {
      "tags": []
     },
     "output_type": "execute_result"
    }
   ],
   "source": [
    "max(-55,39,48.56)"
   ]
  },
  {
   "cell_type": "code",
   "execution_count": null,
   "metadata": {
    "colab": {},
    "colab_type": "code",
    "id": "hmj4rb8K1g0c",
    "outputId": "ae78b28e-1617-4c75-ebbe-64c6793a2460"
   },
   "outputs": [
    {
     "data": {
      "text/plain": [
       "-35"
      ]
     },
     "execution_count": 38,
     "metadata": {
      "tags": []
     },
     "output_type": "execute_result"
    }
   ],
   "source": [
    "max(-55,-65,-35)"
   ]
  },
  {
   "cell_type": "markdown",
   "metadata": {
    "colab_type": "text",
    "id": "72nGjvKD1g0h"
   },
   "source": [
    "### min()\n",
    "\n",
    "`min(a,b,c,...)` method will return the smallest number from the given argument. "
   ]
  },
  {
   "cell_type": "code",
   "execution_count": null,
   "metadata": {
    "colab": {},
    "colab_type": "code",
    "id": "cngMh8Tv1g0k",
    "outputId": "63089013-8d29-494f-a281-af3474e3f08c"
   },
   "outputs": [
    {
     "data": {
      "text/plain": [
       "0"
      ]
     },
     "execution_count": 39,
     "metadata": {
      "tags": []
     },
     "output_type": "execute_result"
    }
   ],
   "source": [
    "min(0,25,600)"
   ]
  },
  {
   "cell_type": "code",
   "execution_count": null,
   "metadata": {
    "colab": {},
    "colab_type": "code",
    "id": "QmqDhDBV1g0p",
    "outputId": "736618f8-9c98-4a2a-8389-9d91ad88326e"
   },
   "outputs": [
    {
     "data": {
      "text/plain": [
       "-55"
      ]
     },
     "execution_count": 40,
     "metadata": {
      "tags": []
     },
     "output_type": "execute_result"
    }
   ],
   "source": [
    "min(-55,39,48.56)"
   ]
  },
  {
   "cell_type": "code",
   "execution_count": null,
   "metadata": {
    "colab": {},
    "colab_type": "code",
    "id": "Ob-jwXW71g0v",
    "outputId": "c533a38d-856c-44d3-d115-bdfddcca66b9"
   },
   "outputs": [
    {
     "data": {
      "text/plain": [
       "-65"
      ]
     },
     "execution_count": 41,
     "metadata": {
      "tags": []
     },
     "output_type": "execute_result"
    }
   ],
   "source": [
    "min(-55,-65,-35)"
   ]
  },
  {
   "cell_type": "markdown",
   "metadata": {
    "colab_type": "text",
    "id": "igjljhW71g01"
   },
   "source": [
    "### modf()\n",
    "\n",
    "`modf()` method will return the fractional and integer parts of the number in a two-item tuple. Both parts will have the same sign as the number. The integer part will return as a float.\n",
    "\n",
    ">**Note:-** This function will not be accessible directly using `modf()` method. Math module will be required to access this method."
   ]
  },
  {
   "cell_type": "code",
   "execution_count": null,
   "metadata": {
    "colab": {},
    "colab_type": "code",
    "id": "564gTnR-1g05",
    "outputId": "ac18f8fb-ed71-493c-836d-8eb41ce5e5d9"
   },
   "outputs": [
    {
     "data": {
      "text/plain": [
       "(0.9500000000000028, 38.0)"
      ]
     },
     "execution_count": 43,
     "metadata": {
      "tags": []
     },
     "output_type": "execute_result"
    }
   ],
   "source": [
    "import math\n",
    "math.modf(38.95)"
   ]
  },
  {
   "cell_type": "code",
   "execution_count": null,
   "metadata": {
    "colab": {},
    "colab_type": "code",
    "id": "6Naw84p21g1B",
    "outputId": "c2141d32-658e-418c-8672-8ae681e1a9b3"
   },
   "outputs": [
    {
     "data": {
      "text/plain": [
       "(-0.35999999999999943, -59.0)"
      ]
     },
     "execution_count": 44,
     "metadata": {
      "tags": []
     },
     "output_type": "execute_result"
    }
   ],
   "source": [
    "math.modf(-59.36)"
   ]
  },
  {
   "cell_type": "code",
   "execution_count": null,
   "metadata": {
    "colab": {},
    "colab_type": "code",
    "id": "KgwjMCZg1g1I",
    "outputId": "29a1f097-1c56-4281-93e1-565334b978d2"
   },
   "outputs": [
    {
     "data": {
      "text/plain": [
       "(0.3500000000000014, 29.0)"
      ]
     },
     "execution_count": 45,
     "metadata": {
      "tags": []
     },
     "output_type": "execute_result"
    }
   ],
   "source": [
    "math.modf(29.35)"
   ]
  },
  {
   "cell_type": "markdown",
   "metadata": {
    "colab_type": "text",
    "id": "fiix-0Wn1g1T"
   },
   "source": [
    "### pow()\n",
    "\n",
    "`pow(x,y)` method will retun value of `x^y` (x power of y).\n",
    "\n",
    ">**Note:-** This function will not be accessible directly using pow() method. Math module will be required to access this method."
   ]
  },
  {
   "cell_type": "code",
   "execution_count": null,
   "metadata": {
    "colab": {},
    "colab_type": "code",
    "id": "cYbD1B5M1g1a",
    "outputId": "f8b07d66-ca4b-4ebc-c06f-8296a81bad24"
   },
   "outputs": [
    {
     "data": {
      "text/plain": [
       "10000000000.0"
      ]
     },
     "execution_count": 46,
     "metadata": {
      "tags": []
     },
     "output_type": "execute_result"
    }
   ],
   "source": [
    "import math\n",
    "math.pow(10,10)"
   ]
  },
  {
   "cell_type": "code",
   "execution_count": null,
   "metadata": {
    "colab": {},
    "colab_type": "code",
    "id": "C9vNTZaQ1g1g",
    "outputId": "c55cea00-2515-4c63-8135-c29d27a5dbf2"
   },
   "outputs": [
    {
     "data": {
      "text/plain": [
       "-0.00032"
      ]
     },
     "execution_count": 47,
     "metadata": {
      "tags": []
     },
     "output_type": "execute_result"
    }
   ],
   "source": [
    "math.pow(-5,-5)"
   ]
  },
  {
   "cell_type": "code",
   "execution_count": null,
   "metadata": {
    "colab": {},
    "colab_type": "code",
    "id": "HelzrzEg1g1q",
    "outputId": "9bfaba44-8926-4484-8234-d8c767ddbd4f"
   },
   "outputs": [
    {
     "data": {
      "text/plain": [
       "150.0625"
      ]
     },
     "execution_count": 48,
     "metadata": {
      "tags": []
     },
     "output_type": "execute_result"
    }
   ],
   "source": [
    "math.pow(12.25, 2)"
   ]
  },
  {
   "cell_type": "markdown",
   "metadata": {
    "colab_type": "text",
    "id": "nIQlAdni1g1x"
   },
   "source": [
    "### round()\n",
    "\n",
    "`round(x, n)` will return x to be rounded up to n digits for a decimal point."
   ]
  },
  {
   "cell_type": "code",
   "execution_count": null,
   "metadata": {
    "colab": {},
    "colab_type": "code",
    "id": "voup_jom1g1z",
    "outputId": "d6c156b0-e342-4705-e698-8aed5f9e2d1c"
   },
   "outputs": [
    {
     "data": {
      "text/plain": [
       "12.6"
      ]
     },
     "execution_count": 49,
     "metadata": {
      "tags": []
     },
     "output_type": "execute_result"
    }
   ],
   "source": [
    "round(12.5989898,2)"
   ]
  },
  {
   "cell_type": "code",
   "execution_count": null,
   "metadata": {
    "colab": {},
    "colab_type": "code",
    "id": "rHCZJRfw1g16",
    "outputId": "a65b772a-6fa3-46e7-b259-ce4f9eb776eb"
   },
   "outputs": [
    {
     "data": {
      "text/plain": [
       "0"
      ]
     },
     "execution_count": 53,
     "metadata": {
      "tags": []
     },
     "output_type": "execute_result"
    }
   ],
   "source": [
    "round(0) # default n whould be 0"
   ]
  },
  {
   "cell_type": "code",
   "execution_count": null,
   "metadata": {
    "colab": {},
    "colab_type": "code",
    "id": "o3wXFGGL1g2K",
    "outputId": "28a454f5-dc8e-4d83-dfc1-443113212cb9"
   },
   "outputs": [
    {
     "data": {
      "text/plain": [
       "-32.25"
      ]
     },
     "execution_count": 55,
     "metadata": {
      "tags": []
     },
     "output_type": "execute_result"
    }
   ],
   "source": [
    "round(-32.25,2)"
   ]
  },
  {
   "cell_type": "markdown",
   "metadata": {
    "colab_type": "text",
    "id": "72sDPlWV1g2S"
   },
   "source": [
    "### sqrt()\n",
    "\n",
    "`sqrt(x)` will return square root of x and x would be greater than eual to 0(>=0)\n",
    "\n",
    ">**Note:-** This function will not be accessible directly using `sqrt()` method. Math module will be required to access this method."
   ]
  },
  {
   "cell_type": "code",
   "execution_count": null,
   "metadata": {
    "colab": {},
    "colab_type": "code",
    "id": "xojvMH9x1g2U",
    "outputId": "fcf4b7fa-228d-4f56-b9ad-f3663dbc7174"
   },
   "outputs": [
    {
     "data": {
      "text/plain": [
       "2.23606797749979"
      ]
     },
     "execution_count": 56,
     "metadata": {
      "tags": []
     },
     "output_type": "execute_result"
    }
   ],
   "source": [
    "import math\n",
    "math.sqrt(5)"
   ]
  },
  {
   "cell_type": "code",
   "execution_count": null,
   "metadata": {
    "colab": {},
    "colab_type": "code",
    "id": "1brgQUor1g2a",
    "outputId": "fbe077dc-ad1b-4d27-b062-7a80b00d1667"
   },
   "outputs": [
    {
     "data": {
      "text/plain": [
       "0.0"
      ]
     },
     "execution_count": 57,
     "metadata": {
      "tags": []
     },
     "output_type": "execute_result"
    }
   ],
   "source": [
    "math.sqrt(0)"
   ]
  },
  {
   "cell_type": "code",
   "execution_count": null,
   "metadata": {
    "colab": {},
    "colab_type": "code",
    "id": "YEiSxDN81g2f",
    "outputId": "7aec8377-3aa7-4b7c-dbcb-609bf197d9c9"
   },
   "outputs": [
    {
     "ename": "ValueError",
     "evalue": "math domain error",
     "output_type": "error",
     "traceback": [
      "\u001b[1;31m---------------------------------------------------------------------------\u001b[0m",
      "\u001b[1;31mValueError\u001b[0m                                Traceback (most recent call last)",
      "\u001b[1;32m<ipython-input-58-d80dea1ee982>\u001b[0m in \u001b[0;36m<module>\u001b[1;34m\u001b[0m\n\u001b[1;32m----> 1\u001b[1;33m \u001b[0mmath\u001b[0m\u001b[1;33m.\u001b[0m\u001b[0msqrt\u001b[0m\u001b[1;33m(\u001b[0m\u001b[1;33m-\u001b[0m\u001b[1;36m25\u001b[0m\u001b[1;33m)\u001b[0m\u001b[1;33m\u001b[0m\u001b[1;33m\u001b[0m\u001b[0m\n\u001b[0m",
      "\u001b[1;31mValueError\u001b[0m: math domain error"
     ]
    }
   ],
   "source": [
    "math.sqrt(-25)"
   ]
  },
  {
   "cell_type": "code",
   "execution_count": null,
   "metadata": {
    "colab": {},
    "colab_type": "code",
    "id": "al7JOxbF1g2m",
    "outputId": "c3a4317f-ff04-4295-f970-d71ffd2757ed"
   },
   "outputs": [
    {
     "data": {
      "text/plain": [
       "8.06225774829855"
      ]
     },
     "execution_count": 59,
     "metadata": {
      "tags": []
     },
     "output_type": "execute_result"
    }
   ],
   "source": [
    "math.sqrt(65)"
   ]
  },
  {
   "cell_type": "markdown",
   "metadata": {
    "colab_type": "text",
    "id": "gpQ6FUjZ1g2z"
   },
   "source": [
    "## 6.1.2 Trignometric functions"
   ]
  },
  {
   "cell_type": "markdown",
   "metadata": {
    "colab_type": "text",
    "id": "dwE8lHkq1g20"
   },
   "source": [
    "### sin()\n",
    "\n",
    "`sin(x)` will return sine of x passed in argument. The value of passed argument x should be in radians.\n",
    "\n",
    "In mathematics, the sine is a trigonometric function of an angle. The sine of an acute angle is defined in the context of a right triangle: for the specified angle, it is the ratio of the length of the side that is opposite that angle to the length of the longest side of the triangle (the hypotenuse). Refer below link for more about sine in trignometry.\n",
    "\n",
    ">**Refer (wikipedia):-**  https://en.wikipedia.org/wiki/Sine#:~:text=In%20mathematics%2C%20the%20sine%20is,the%20triangle%20(the%20hypotenuse).\n",
    "\n",
    ">**Note:-** This function will not be accessible directly using sin() method. Math module will be required to access this method."
   ]
  },
  {
   "cell_type": "code",
   "execution_count": null,
   "metadata": {
    "colab": {},
    "colab_type": "code",
    "id": "tia57Q2t1g23",
    "outputId": "38d2efdb-8725-4a49-d60e-ac961347ab20"
   },
   "outputs": [
    {
     "data": {
      "text/plain": [
       "-0.9589242746631385"
      ]
     },
     "execution_count": 1,
     "metadata": {
      "tags": []
     },
     "output_type": "execute_result"
    }
   ],
   "source": [
    "import math\n",
    "math.sin(5)"
   ]
  },
  {
   "cell_type": "code",
   "execution_count": null,
   "metadata": {
    "colab": {},
    "colab_type": "code",
    "id": "I4hw2PzQ1g3A",
    "outputId": "8fe0a67a-a830-4a99-f7e0-dbc994efd48d"
   },
   "outputs": [
    {
     "data": {
      "text/plain": [
       "-0.5991834492142653"
      ]
     },
     "execution_count": 2,
     "metadata": {
      "tags": []
     },
     "output_type": "execute_result"
    }
   ],
   "source": [
    "math.sin(35.2)"
   ]
  },
  {
   "cell_type": "code",
   "execution_count": null,
   "metadata": {
    "colab": {},
    "colab_type": "code",
    "id": "HdYruUdo1g3K",
    "outputId": "cadf711f-2039-487c-cc23-ba97b2beb707"
   },
   "outputs": [
    {
     "data": {
      "text/plain": [
       "0.0"
      ]
     },
     "execution_count": 20,
     "metadata": {
      "tags": []
     },
     "output_type": "execute_result"
    }
   ],
   "source": [
    "math.sin(0)"
   ]
  },
  {
   "cell_type": "markdown",
   "metadata": {
    "colab_type": "text",
    "id": "9NZJuyE61g3O"
   },
   "source": [
    "### cos(x)\n",
    "\n",
    "`cos(x)` will return cosine of x passed in argument. The value of passed argument x should be in radians.\n",
    "\n",
    ">**Note:-** This function will not be accessible directly using cos() method. Math module will be required to access this method."
   ]
  },
  {
   "cell_type": "code",
   "execution_count": null,
   "metadata": {
    "colab": {},
    "colab_type": "code",
    "id": "cugNuwen1g3Q",
    "outputId": "500c857b-b499-4fa9-d36a-b2b706dd678f"
   },
   "outputs": [
    {
     "data": {
      "text/plain": [
       "-0.8953443058394921"
      ]
     },
     "execution_count": 3,
     "metadata": {
      "tags": []
     },
     "output_type": "execute_result"
    }
   ],
   "source": [
    "math.cos(2.68)"
   ]
  },
  {
   "cell_type": "code",
   "execution_count": null,
   "metadata": {
    "colab": {},
    "colab_type": "code",
    "id": "7nDyAQZH1g3U",
    "outputId": "324fbca3-879a-4368-8a46-46bdf0925e2b"
   },
   "outputs": [
    {
     "data": {
      "text/plain": [
       "0.960170286650366"
      ]
     },
     "execution_count": 4,
     "metadata": {
      "tags": []
     },
     "output_type": "execute_result"
    }
   ],
   "source": [
    "math.cos(-6)"
   ]
  },
  {
   "cell_type": "code",
   "execution_count": null,
   "metadata": {
    "colab": {},
    "colab_type": "code",
    "id": "h_vDnhKY1g3b",
    "outputId": "02f431d5-615f-4bd7-a099-53ce38b25fab"
   },
   "outputs": [
    {
     "data": {
      "text/plain": [
       "1.0"
      ]
     },
     "execution_count": 19,
     "metadata": {
      "tags": []
     },
     "output_type": "execute_result"
    }
   ],
   "source": [
    "math.cos(0)"
   ]
  },
  {
   "cell_type": "markdown",
   "metadata": {
    "colab_type": "text",
    "id": "zTHHRstM1g3i"
   },
   "source": [
    "### tan(x)\n",
    "\n",
    "`tan(x)` will return tangent of x passed in argument. The value of passed argument x should be in radians.\n",
    "\n",
    ">**Note:-** This function is not be accessible directly using `tan()` method. Math module will be required to access this method."
   ]
  },
  {
   "cell_type": "code",
   "execution_count": null,
   "metadata": {
    "colab": {},
    "colab_type": "code",
    "id": "Tz4mELGc1g3k",
    "outputId": "0650fa93-311e-4c1e-bc77-ee0e2307d5dc"
   },
   "outputs": [
    {
     "data": {
      "text/plain": [
       "-0.13352640702153587"
      ]
     },
     "execution_count": 6,
     "metadata": {
      "tags": []
     },
     "output_type": "execute_result"
    }
   ],
   "source": [
    "import math\n",
    "math.tan(25)"
   ]
  },
  {
   "cell_type": "code",
   "execution_count": null,
   "metadata": {
    "colab": {},
    "colab_type": "code",
    "id": "eqak4rFm1g3y",
    "outputId": "8f5672ca-f3a4-4ec0-ea65-6bc09e135ba4"
   },
   "outputs": [
    {
     "data": {
      "text/plain": [
       "0.3745856401585947"
      ]
     },
     "execution_count": 7,
     "metadata": {
      "tags": []
     },
     "output_type": "execute_result"
    }
   ],
   "source": [
    "math.tan(3.5)"
   ]
  },
  {
   "cell_type": "code",
   "execution_count": null,
   "metadata": {
    "colab": {},
    "colab_type": "code",
    "id": "1yMiI0w_1g33",
    "outputId": "673791e2-6daf-4188-da48-7499604efada"
   },
   "outputs": [
    {
     "data": {
      "text/plain": [
       "0.0"
      ]
     },
     "execution_count": 18,
     "metadata": {
      "tags": []
     },
     "output_type": "execute_result"
    }
   ],
   "source": [
    "math.tan(0)"
   ]
  },
  {
   "cell_type": "markdown",
   "metadata": {
    "colab_type": "text",
    "id": "xL5VroiA1g4A"
   },
   "source": [
    "### hypot()\n",
    "\n",
    "`hypot(a,b)` will return hypotenuse of a,b passed in arguments. mathematical formaula for `hypot = sqrt(a*a + b*b)`\n",
    "\n",
    ">**Note:-** This function is not be accessible directly using hypot() method. Math module will be required to access this method."
   ]
  },
  {
   "cell_type": "code",
   "execution_count": null,
   "metadata": {
    "colab": {},
    "colab_type": "code",
    "id": "TqD56-fV1g4B",
    "outputId": "286ea1bf-91d6-421f-f51d-da57b452a408"
   },
   "outputs": [
    {
     "data": {
      "text/plain": [
       "2.8284271247461903"
      ]
     },
     "execution_count": 9,
     "metadata": {
      "tags": []
     },
     "output_type": "execute_result"
    }
   ],
   "source": [
    "import math\n",
    "math.hypot(1,2)"
   ]
  },
  {
   "cell_type": "code",
   "execution_count": null,
   "metadata": {
    "colab": {},
    "colab_type": "code",
    "id": "2VOSgCRk1g4G",
    "outputId": "1084d7ab-6def-45ca-d411-1f7c35258bca"
   },
   "outputs": [
    {
     "data": {
      "text/plain": [
       "6.5"
      ]
     },
     "execution_count": 10,
     "metadata": {
      "tags": []
     },
     "output_type": "execute_result"
    }
   ],
   "source": [
    "math.hypot(2.5,6)"
   ]
  },
  {
   "cell_type": "markdown",
   "metadata": {
    "colab_type": "text",
    "id": "aEmJsuLZ1g4J"
   },
   "source": [
    "### degrees()\n",
    "\n",
    "`degrees(x)` will help to convert passed argument from radians to degrees.\n",
    "\n",
    "T>**Note:-** This function will not be accessible directly using degrees() method. Math module will be required to access this method."
   ]
  },
  {
   "cell_type": "code",
   "execution_count": null,
   "metadata": {
    "colab": {},
    "colab_type": "code",
    "id": "AxjeZlOL1g4L",
    "outputId": "7a03bbe0-2f45-4abe-f139-9dd5ceda363f"
   },
   "outputs": [
    {
     "data": {
      "text/plain": [
       "286.4788975654116"
      ]
     },
     "execution_count": 11,
     "metadata": {
      "tags": []
     },
     "output_type": "execute_result"
    }
   ],
   "source": [
    "import math\n",
    "math.degrees(5)"
   ]
  },
  {
   "cell_type": "code",
   "execution_count": null,
   "metadata": {
    "colab": {},
    "colab_type": "code",
    "id": "ZkNx_iTN1g4P",
    "outputId": "f6d2f323-65dd-4aaf-be7c-21d0f9599e44"
   },
   "outputs": [
    {
     "data": {
      "text/plain": [
       "137.50987083139756"
      ]
     },
     "execution_count": 12,
     "metadata": {
      "tags": []
     },
     "output_type": "execute_result"
    }
   ],
   "source": [
    "math.degrees(2.4)"
   ]
  },
  {
   "cell_type": "markdown",
   "metadata": {
    "colab_type": "text",
    "id": "O51nc5Ez1g4W"
   },
   "source": [
    "### radians()\n",
    "\n",
    "`radians(x)` will help to convert passed argument from degrees to radians.\n",
    "\n",
    ">**Note:-** This function will not be accessible directly using radians() method. Math module will be required to access this method."
   ]
  },
  {
   "cell_type": "code",
   "execution_count": null,
   "metadata": {
    "colab": {},
    "colab_type": "code",
    "id": "vnPyBPkG1g4X",
    "outputId": "32b542d1-e19a-4792-b37f-dec7bc8edd69"
   },
   "outputs": [
    {
     "data": {
      "text/plain": [
       "0.6981317007977318"
      ]
     },
     "execution_count": 13,
     "metadata": {
      "tags": []
     },
     "output_type": "execute_result"
    }
   ],
   "source": [
    "import math\n",
    "math.radians(40)"
   ]
  },
  {
   "cell_type": "code",
   "execution_count": null,
   "metadata": {
    "colab": {},
    "colab_type": "code",
    "id": "YzQrWxHB1g4Z",
    "outputId": "8fa2f8f5-2b2e-47f5-e1c7-68b76c50880a"
   },
   "outputs": [
    {
     "data": {
      "text/plain": [
       "0.03490658503988659"
      ]
     },
     "execution_count": 15,
     "metadata": {
      "tags": []
     },
     "output_type": "execute_result"
    }
   ],
   "source": [
    "math.radians(2)"
   ]
  },
  {
   "cell_type": "code",
   "execution_count": null,
   "metadata": {
    "colab": {},
    "colab_type": "code",
    "id": "8jaR25E61g4f",
    "outputId": "4d172964-d2a5-49c4-d976-5f7bcf901317"
   },
   "outputs": [
    {
     "data": {
      "text/plain": [
       "-0.03490658503988659"
      ]
     },
     "execution_count": 16,
     "metadata": {
      "tags": []
     },
     "output_type": "execute_result"
    }
   ],
   "source": [
    "math.radians(-2)"
   ]
  },
  {
   "cell_type": "code",
   "execution_count": null,
   "metadata": {
    "colab": {},
    "colab_type": "code",
    "id": "TJzczzhM1g4j",
    "outputId": "cea635f8-9892-4ae0-da3d-dd06e4536254"
   },
   "outputs": [
    {
     "data": {
      "text/plain": [
       "0.0"
      ]
     },
     "execution_count": 17,
     "metadata": {
      "tags": []
     },
     "output_type": "execute_result"
    }
   ],
   "source": [
    "math.radians(0)"
   ]
  },
  {
   "cell_type": "markdown",
   "metadata": {
    "colab_type": "text",
    "id": "0pf75YEU1g4n"
   },
   "source": [
    "### acos()\n",
    "\n",
    "This function will return the cosine inverse of the parameter x and x should be in radians. This is also known as arc cosine of x.\n",
    "\n",
    "X value must be numeric value and range should be -1 to 1.\n",
    "\n",
    ">**Note:-** This function will not be accessible directly using acos() method. Math module will be required to access this method."
   ]
  },
  {
   "cell_type": "code",
   "execution_count": null,
   "metadata": {
    "colab": {},
    "colab_type": "code",
    "id": "2BdrbIhp1g4p",
    "outputId": "89b0acee-2fda-4475-dd1b-ea83026f01e5"
   },
   "outputs": [
    {
     "data": {
      "text/plain": [
       "0.6435011087932843"
      ]
     },
     "execution_count": 21,
     "metadata": {
      "tags": []
     },
     "output_type": "execute_result"
    }
   ],
   "source": [
    "import math\n",
    "math.acos(0.8)"
   ]
  },
  {
   "cell_type": "code",
   "execution_count": null,
   "metadata": {
    "colab": {},
    "colab_type": "code",
    "id": "B8SZUB211g4x",
    "outputId": "451959a2-9800-4d27-aa27-47198fb08431"
   },
   "outputs": [
    {
     "data": {
      "text/plain": [
       "3.141592653589793"
      ]
     },
     "execution_count": 22,
     "metadata": {
      "tags": []
     },
     "output_type": "execute_result"
    }
   ],
   "source": [
    "math.acos(-1)"
   ]
  },
  {
   "cell_type": "code",
   "execution_count": null,
   "metadata": {
    "colab": {},
    "colab_type": "code",
    "id": "cnu784Px1g41",
    "outputId": "36513809-5386-406f-b23e-01f7ea8ab297"
   },
   "outputs": [
    {
     "ename": "ValueError",
     "evalue": "math domain error",
     "output_type": "error",
     "traceback": [
      "\u001b[1;31m---------------------------------------------------------------------------\u001b[0m",
      "\u001b[1;31mValueError\u001b[0m                                Traceback (most recent call last)",
      "\u001b[1;32m<ipython-input-24-d9dbb2ffd256>\u001b[0m in \u001b[0;36m<module>\u001b[1;34m\u001b[0m\n\u001b[1;32m----> 1\u001b[1;33m \u001b[0mmath\u001b[0m\u001b[1;33m.\u001b[0m\u001b[0macos\u001b[0m\u001b[1;33m(\u001b[0m\u001b[1;36m5\u001b[0m\u001b[1;33m)\u001b[0m \u001b[1;31m# Value should be -1<=x<=1\u001b[0m\u001b[1;33m\u001b[0m\u001b[1;33m\u001b[0m\u001b[0m\n\u001b[0m",
      "\u001b[1;31mValueError\u001b[0m: math domain error"
     ]
    }
   ],
   "source": [
    "math.acos(5) # Value should be -1<=x<=1"
   ]
  },
  {
   "cell_type": "code",
   "execution_count": null,
   "metadata": {
    "colab": {},
    "colab_type": "code",
    "id": "qGPJ0alV1g46",
    "outputId": "5f82a392-ce73-4288-b8d6-f7f924020c73"
   },
   "outputs": [
    {
     "data": {
      "text/plain": [
       "1.5707963267948966"
      ]
     },
     "execution_count": 26,
     "metadata": {
      "tags": []
     },
     "output_type": "execute_result"
    }
   ],
   "source": [
    "math.acos(0)"
   ]
  },
  {
   "cell_type": "markdown",
   "metadata": {
    "colab_type": "text",
    "id": "dIT4D4tW1g4-"
   },
   "source": [
    "### asin()\n",
    "\n",
    "This function will return the sine inverse of the parameter x and x should be in radians. This is also known as arc sine of x.\n",
    "\n",
    "X value must be numeric value and range should be -1 to 1.\n",
    "\n",
    ">**Note:-** This function is not be accessible directly using asin() method. Math module will be required to access this method."
   ]
  },
  {
   "cell_type": "code",
   "execution_count": null,
   "metadata": {
    "colab": {},
    "colab_type": "code",
    "id": "-vTHkX-l1g4_",
    "outputId": "bafb90f1-fdb3-4267-da1f-021cdeab0018"
   },
   "outputs": [
    {
     "data": {
      "text/plain": [
       "-1.5707963267948966"
      ]
     },
     "execution_count": 27,
     "metadata": {
      "tags": []
     },
     "output_type": "execute_result"
    }
   ],
   "source": [
    "import math\n",
    "math.asin(-1)"
   ]
  },
  {
   "cell_type": "code",
   "execution_count": null,
   "metadata": {
    "colab": {},
    "colab_type": "code",
    "id": "sigjErOj1g5E",
    "outputId": "c4a9c859-df36-4637-8e02-ebfb1dd1af78"
   },
   "outputs": [
    {
     "data": {
      "text/plain": [
       "1.5707963267948966"
      ]
     },
     "execution_count": 28,
     "metadata": {
      "tags": []
     },
     "output_type": "execute_result"
    }
   ],
   "source": [
    "math.asin(1)"
   ]
  },
  {
   "cell_type": "code",
   "execution_count": null,
   "metadata": {
    "colab": {},
    "colab_type": "code",
    "id": "Uv2aMe8I1g5K",
    "outputId": "830f7b62-5b92-47d3-ed79-55d8b0f828f0"
   },
   "outputs": [
    {
     "data": {
      "text/plain": [
       "0.0"
      ]
     },
     "execution_count": 29,
     "metadata": {
      "tags": []
     },
     "output_type": "execute_result"
    }
   ],
   "source": [
    "math.asin(0)"
   ]
  },
  {
   "cell_type": "code",
   "execution_count": null,
   "metadata": {
    "colab": {},
    "colab_type": "code",
    "id": "ynODX0uZ1g5O",
    "outputId": "af25537f-5e15-4ecb-a249-d7a3f7fb95cb"
   },
   "outputs": [
    {
     "data": {
      "text/plain": [
       "0.6435011087932844"
      ]
     },
     "execution_count": 30,
     "metadata": {
      "tags": []
     },
     "output_type": "execute_result"
    }
   ],
   "source": [
    "math.asin(0.6)"
   ]
  },
  {
   "cell_type": "markdown",
   "metadata": {
    "colab_type": "text",
    "id": "z_F00lRc1g5c"
   },
   "source": [
    "### atan()\n",
    "\n",
    "This function will return the arc tangent of x.\n",
    "\n",
    "X value must be numeric value and range should be -1 to 1.\n",
    "\n",
    ">**Note:-** This function is not be accessible directly using atan() method. Math module will be required to access this method."
   ]
  },
  {
   "cell_type": "code",
   "execution_count": null,
   "metadata": {
    "colab": {},
    "colab_type": "code",
    "id": "PI2NueIK1g5e",
    "outputId": "08c1204c-8df0-4b0f-eab9-9b19bc643ff4"
   },
   "outputs": [
    {
     "data": {
      "text/plain": [
       "-0.7853981633974483"
      ]
     },
     "execution_count": 31,
     "metadata": {
      "tags": []
     },
     "output_type": "execute_result"
    }
   ],
   "source": [
    "import math\n",
    "math.atan(-1)"
   ]
  },
  {
   "cell_type": "code",
   "execution_count": null,
   "metadata": {
    "colab": {},
    "colab_type": "code",
    "id": "Q2EEDnj11g5i",
    "outputId": "af2adee1-6953-477b-f50e-ce90f4c94406"
   },
   "outputs": [
    {
     "data": {
      "text/plain": [
       "0.09966865249116204"
      ]
     },
     "execution_count": 32,
     "metadata": {
      "tags": []
     },
     "output_type": "execute_result"
    }
   ],
   "source": [
    "math.atan(0.1)"
   ]
  },
  {
   "cell_type": "code",
   "execution_count": null,
   "metadata": {
    "colab": {},
    "colab_type": "code",
    "id": "uW1uK0U41g5n",
    "outputId": "e6da6dbc-1b01-46d6-cb89-654781d3c465"
   },
   "outputs": [
    {
     "data": {
      "text/plain": [
       "0.7853981633974483"
      ]
     },
     "execution_count": 33,
     "metadata": {
      "tags": []
     },
     "output_type": "execute_result"
    }
   ],
   "source": [
    "math.atan(1)"
   ]
  },
  {
   "cell_type": "code",
   "execution_count": null,
   "metadata": {
    "colab": {},
    "colab_type": "code",
    "id": "cJ42DYDd1g5r",
    "outputId": "229f7375-0744-40d2-cf13-b6436b41f4f8"
   },
   "outputs": [
    {
     "data": {
      "text/plain": [
       "0.0"
      ]
     },
     "execution_count": 34,
     "metadata": {
      "tags": []
     },
     "output_type": "execute_result"
    }
   ],
   "source": [
    "math.atan(0)"
   ]
  },
  {
   "cell_type": "markdown",
   "metadata": {
    "colab_type": "text",
    "id": "G0fDv67g1g5v"
   },
   "source": [
    "For more detils,\n",
    ">**Refer:-** https://docs.python.org/3/library/math.html"
   ]
  },
  {
   "cell_type": "markdown",
   "metadata": {
    "colab_type": "text",
    "id": "wC9oPJsDpVum"
   },
   "source": [
    "## 6.1.3 Programs"
   ]
  },
  {
   "cell_type": "code",
   "execution_count": null,
   "metadata": {
    "colab": {},
    "colab_type": "code",
    "id": "pSyRZa9C1g5w",
    "outputId": "b4157cbc-b59a-4899-c118-2ca122123d16"
   },
   "outputs": [
    {
     "data": {
      "text/plain": [
       "8"
      ]
     },
     "execution_count": 2,
     "metadata": {
      "tags": []
     },
     "output_type": "execute_result"
    }
   ],
   "source": [
    "# sample program for max of 3 numbers\n",
    "\n",
    "a,b,c = 5,6,8\n",
    "if (a >= b) and (a >= c): \n",
    "    max_number = a \n",
    "elif (b >= a) and (b >= c): \n",
    "    max_number = b \n",
    "else: \n",
    "    max_number = c \n",
    "    \n",
    "max_number"
   ]
  },
  {
   "cell_type": "code",
   "execution_count": null,
   "metadata": {
    "colab": {},
    "colab_type": "code",
    "id": "9XQ0Y6dr1g5z",
    "outputId": "b0371e61-49ef-47f2-aba7-80ce3bc4de49"
   },
   "outputs": [
    {
     "name": "stdout",
     "output_type": "stream",
     "text": [
      "Enter a number: 5\n",
      "5 is a prime number\n"
     ]
    }
   ],
   "source": [
    "# Program to chcek prime number\n",
    "\n",
    "# Input number from the user\n",
    "no = int(input(\"Enter a number: \"))\n",
    "\n",
    "# prime numbers are greater than 1\n",
    "if no > 1:\n",
    "   for i in range(2, no): \n",
    "       # If no is divisible by any number between 2 and no, it is not prime  \n",
    "       if (no % i) == 0: \n",
    "           print(no, \"is not a prime number\") \n",
    "           break\n",
    "   else: \n",
    "       print(no, \"is a prime number\") \n",
    "       \n",
    "#  it is not prime no if no is <=1\n",
    "else:\n",
    "    print(no,\"is not a prime number\")\n",
    "    \n",
    "# Try to do optimization for this program"
   ]
  },
  {
   "cell_type": "code",
   "execution_count": null,
   "metadata": {
    "colab": {},
    "colab_type": "code",
    "id": "tPUa-5Gp1g54",
    "outputId": "4b3def03-f205-44a4-affd-00c2674f89f3"
   },
   "outputs": [
    {
     "name": "stdout",
     "output_type": "stream",
     "text": [
      " Enter the Actual cost amount: 2000\n",
      "Enter the Sales Amount: 3000\n",
      "You have a profit of 1000.0\n"
     ]
    }
   ],
   "source": [
    "# Program to Calculate Profit or Loss of a business\n",
    " \n",
    "total_cost_amount = float(input(\" Enter the Actual cost amount: \"))\n",
    "total_sales_Amount = float(input(\"Enter the Sales Amount: \"))\n",
    " \n",
    "if(total_cost_amount > total_sales_Amount):\n",
    "    amount = total_cost_amount - total_sales_Amount\n",
    "    print(\"You have a loss of {}\".format(amount))\n",
    "elif(total_sales_Amount > total_cost_amount):\n",
    "    amount = total_sales_Amount - total_cost_amount\n",
    "    print(\"You have a profit of {}\".format(amount))\n",
    "else:\n",
    "    print(\"No Profit No Loss\")\n",
    "\n"
   ]
  },
  {
   "cell_type": "code",
   "execution_count": null,
   "metadata": {
    "colab": {},
    "colab_type": "code",
    "id": "LMAsssgY1g57"
   },
   "outputs": [],
   "source": []
  }
 ],
 "metadata": {
  "colab": {
   "collapsed_sections": [
    "HD1QwgNe1gz3",
    "dwE8lHkq1g20"
   ],
   "name": "6.1 Number methods.ipynb",
   "provenance": [],
   "toc_visible": true
  },
  "kernelspec": {
   "display_name": "Python 3 (ipykernel)",
   "language": "python",
   "name": "python3"
  },
  "language_info": {
   "codemirror_mode": {
    "name": "ipython",
    "version": 3
   },
   "file_extension": ".py",
   "mimetype": "text/x-python",
   "name": "python",
   "nbconvert_exporter": "python",
   "pygments_lexer": "ipython3",
   "version": "3.11.4"
  }
 },
 "nbformat": 4,
 "nbformat_minor": 1
}
